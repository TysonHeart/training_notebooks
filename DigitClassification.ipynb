{
  "cells": [
    {
      "cell_type": "markdown",
      "metadata": {
        "id": "view-in-github",
        "colab_type": "text"
      },
      "source": [
        "<a href=\"https://colab.research.google.com/github/TysonHeart/training_notebooks/blob/main/DigitClassification.ipynb\" target=\"_parent\"><img src=\"https://colab.research.google.com/assets/colab-badge.svg\" alt=\"Open In Colab\"/></a>"
      ]
    },
    {
      "cell_type": "code",
      "execution_count": 1,
      "id": "04c0bc55-2be6-4c01-8c76-607c80baae0f",
      "metadata": {
        "colab": {
          "base_uri": "https://localhost:8080/"
        },
        "id": "04c0bc55-2be6-4c01-8c76-607c80baae0f",
        "outputId": "373a48c8-2bae-4899-95dc-d7bb5f42ea5c"
      },
      "outputs": [
        {
          "output_type": "stream",
          "name": "stdout",
          "text": [
            "Cloning into 'neural-networks-and-deep-learning'...\n",
            "remote: Enumerating objects: 1172, done.\u001b[K\n",
            "remote: Counting objects: 100% (9/9), done.\u001b[K\n",
            "remote: Compressing objects: 100% (8/8), done.\u001b[K\n",
            "remote: Total 1172 (delta 4), reused 4 (delta 1), pack-reused 1163\u001b[K\n",
            "Receiving objects: 100% (1172/1172), 20.43 MiB | 20.19 MiB/s, done.\n",
            "Resolving deltas: 100% (581/581), done.\n"
          ]
        }
      ],
      "source": [
        "!git clone https://github.com/mnielsen/neural-networks-and-deep-learning.git"
      ]
    },
    {
      "cell_type": "code",
      "execution_count": 2,
      "id": "04a5579a-33fe-4499-9f3a-b91938e4c81b",
      "metadata": {
        "colab": {
          "base_uri": "https://localhost:8080/"
        },
        "id": "04a5579a-33fe-4499-9f3a-b91938e4c81b",
        "outputId": "77eb1508-62c9-4dda-a4cf-1cc1da467e4a"
      },
      "outputs": [
        {
          "output_type": "stream",
          "name": "stdout",
          "text": [
            "Requirement already satisfied: numpy in /usr/local/lib/python3.10/dist-packages (1.25.2)\n"
          ]
        }
      ],
      "source": [
        "!pip install numpy"
      ]
    },
    {
      "cell_type": "code",
      "execution_count": 3,
      "id": "f97c8eb3-430c-44c9-91aa-6877e20047e7",
      "metadata": {
        "id": "f97c8eb3-430c-44c9-91aa-6877e20047e7"
      },
      "outputs": [],
      "source": [
        "import random\n",
        "\n",
        "def sigmoid(z):\n",
        "        return 1.0/(1.0+np.exp(-z))\n",
        "\n",
        "\n",
        "def sigmoid_prime(z):\n",
        "        \"\"\"Derivative of the sigmoid function.\"\"\"\n",
        "        return sigmoid(z)*(1-sigmoid(z))\n",
        "\n",
        "\n",
        "\n",
        "class Network(object):\n",
        "    def __init__(self, sizes):\n",
        "        self.num_layers = len(sizes)\n",
        "        self.sizes = sizes\n",
        "        self.biases = [ np.random.randn(y, 1) for y in sizes[1:]]\n",
        "        self.weights = [np.random.randn(y, x) for x, y in zip(sizes[:-1],sizes[1:])]\n",
        "\n",
        "\n",
        "    def feedfwd(self, inputs):\n",
        "        for w, b in zip(self.weights, self.biases):\n",
        "            inputs = sigmoid(np.dot(w,inputs) + b)\n",
        "\n",
        "        return inputs\n",
        "\n",
        "    # For each epoch, shuffle training data and then create batches each worth mini_batch_size of training data records.\n",
        "    # For each such mini batch, invoke train_mini_batch.\n",
        "    # eta is the learning rate.\n",
        "    def train(self, training_data, test_data, mini_batch_size, eta, epochs):\n",
        "        n = len(training_data)\n",
        "        for i in range(epochs):\n",
        "            random.shuffle(training_data)\n",
        "            mini_batches = [\n",
        "                training_data[k:k+mini_batch_size] for k in range(0, n, mini_batch_size)\n",
        "            ]\n",
        "\n",
        "            for mb in mini_batches:\n",
        "                self.train_mini_batch(mb, eta)\n",
        "\n",
        "            if test_data:\n",
        "                print(f\"Epoch {i}: {self.evaluate(test_data)} : {len(test_data)} \")\n",
        "            else:\n",
        "                print(f\"Epoch {i} complete\")\n",
        "\n",
        "    def train_mini_batch(self, mb, eta):\n",
        "\n",
        "        nabla_b = [np.zeros(b.shape) for b in self.biases]\n",
        "        nabla_w = [np.zeros(w.shape) for w in self.weights]\n",
        "        for x, y in mb:\n",
        "            delta_nabla_b, delta_nabla_w = self.backprop(x, y)\n",
        "            nabla_b = [nb+dnb for nb, dnb in zip(nabla_b, delta_nabla_b)]\n",
        "            nabla_w = [nw+dnw for nw, dnw in zip(nabla_w, delta_nabla_w)]\n",
        "        self.weights = [w-(eta/len(mb))*nw\n",
        "                        for w, nw in zip(self.weights, nabla_w)]\n",
        "        self.biases = [b-(eta/len(mb))*nb\n",
        "                       for b, nb in zip(self.biases, nabla_b)]\n",
        "\n",
        "\n",
        "    def backprop(self, x, y):\n",
        "        \"\"\"Return a tuple ``(nabla_b, nabla_w)`` representing the\n",
        "        gradient for the cost function C_x.  ``nabla_b`` and\n",
        "        ``nabla_w`` are layer-by-layer lists of numpy arrays, similar\n",
        "        to ``self.biases`` and ``self.weights``.\"\"\"\n",
        "        nabla_b = [np.zeros(b.shape) for b in self.biases]\n",
        "        nabla_w = [np.zeros(w.shape) for w in self.weights]\n",
        "        # feedforward\n",
        "        activation = x\n",
        "        activations = [x] # list to store all the activations, layer by layer\n",
        "        zs = [] # list to store all the z vectors, layer by layer\n",
        "        for b, w in zip(self.biases, self.weights):\n",
        "            z = np.dot(w, activation)+b\n",
        "            zs.append(z)\n",
        "            activation = sigmoid(z)\n",
        "            activations.append(activation)\n",
        "        # backward pass\n",
        "        delta = self.cost_derivative(activations[-1], y) * \\\n",
        "            sigmoid_prime(zs[-1])\n",
        "        nabla_b[-1] = delta\n",
        "        nabla_w[-1] = np.dot(delta, activations[-2].transpose())\n",
        "        # Note that the variable l in the loop below is used a little\n",
        "        # differently to the notation in Chapter 2 of the book.  Here,\n",
        "        # l = 1 means the last layer of neurons, l = 2 is the\n",
        "        # second-last layer, and so on.  It's a renumbering of the\n",
        "        # scheme in the book, used here to take advantage of the fact\n",
        "        # that Python can use negative indices in lists.\n",
        "        for l in range(2, self.num_layers):\n",
        "            z = zs[-l]\n",
        "            sp = sigmoid_prime(z)\n",
        "            delta = np.dot(self.weights[-l+1].transpose(), delta) * sp\n",
        "            nabla_b[-l] = delta\n",
        "            nabla_w[-l] = np.dot(delta, activations[-l-1].transpose())\n",
        "        return (nabla_b, nabla_w)\n",
        "\n",
        "\n",
        "    def cost_derivative(self, output_activations, y):\n",
        "        \"\"\"Return the vector of partial derivatives \\\\ partial C_x /\n",
        "        \\\\ partial a for the output activations.\"\"\"\n",
        "        return (output_activations-y)\n",
        "\n",
        "\n",
        "\n",
        "\n",
        "\n",
        "    def evaluate(self, test_data):\n",
        "        \"\"\"Return the number of test inputs for which the neural\n",
        "        network outputs the correct result. Note that the neural\n",
        "        network's output is assumed to be the index of whichever\n",
        "        neuron in the final layer has the highest activation.\"\"\"\n",
        "        test_results = [(np.argmax(self.feedfwd(x)), y)\n",
        "                        for (x, y) in test_data]\n",
        "        count = 0\n",
        "        for (x, y) in test_results:\n",
        "            if x == y:\n",
        "                count += 1\n",
        "\n",
        "        return count\n",
        "        # return sum(int(x == y) for (x, y) in test_results)\n",
        "\n",
        ""
      ]
    },
    {
      "cell_type": "code",
      "execution_count": 4,
      "id": "6d02f81d-187f-4c90-a773-a0a66dd376d5",
      "metadata": {
        "id": "6d02f81d-187f-4c90-a773-a0a66dd376d5"
      },
      "outputs": [],
      "source": [
        "\"\"\"\n",
        "mnist_loader\n",
        "~~~~~~~~~~~~\n",
        "\n",
        "A library to load the MNIST image data.  For details of the data\n",
        "structures that are returned, see the doc strings for ``load_data``\n",
        "and ``load_data_wrapper``.  In practice, ``load_data_wrapper`` is the\n",
        "function usually called by our neural network code.\n",
        "\"\"\"\n",
        "\n",
        "#### Libraries\n",
        "# Standard library\n",
        "import _pickle as cPickle\n",
        "import gzip\n",
        "\n",
        "# Third-party libraries\n",
        "import numpy as np\n",
        "\n",
        "def load_data():\n",
        "    \"\"\"Return the MNIST data as a tuple containing the training data,\n",
        "    the validation data, and the test data.\n",
        "\n",
        "    The ``training_data`` is returned as a tuple with two entries.\n",
        "    The first entry contains the actual training images.  This is a\n",
        "    numpy ndarray with 50,000 entries.  Each entry is, in turn, a\n",
        "    numpy ndarray with 784 values, representing the 28 * 28 = 784\n",
        "    pixels in a single MNIST image.\n",
        "\n",
        "    The second entry in the ``training_data`` tuple is a numpy ndarray\n",
        "    containing 50,000 entries.  Those entries are just the digit\n",
        "    values (0...9) for the corresponding images contained in the first\n",
        "    entry of the tuple.\n",
        "\n",
        "    The ``validation_data`` and ``test_data`` are similar, except\n",
        "    each contains only 10,000 images.\n",
        "\n",
        "    This is a nice data format, but for use in neural networks it's\n",
        "    helpful to modify the format of the ``training_data`` a little.\n",
        "    That's done in the wrapper function ``load_data_wrapper()``, see\n",
        "    below.\n",
        "    \"\"\"\n",
        "    f = gzip.open('neural-networks-and-deep-learning/data/mnist.pkl.gz', 'rb')\n",
        "    training_data, validation_data, test_data = cPickle.load(f, encoding='latin1')\n",
        "    f.close()\n",
        "    return (training_data, validation_data, test_data)\n",
        "\n",
        "def load_data_wrapper():\n",
        "    \"\"\"Return a tuple containing ``(training_data, validation_data,\n",
        "    test_data)``. Based on ``load_data``, but the format is more\n",
        "    convenient for use in our implementation of neural networks.\n",
        "\n",
        "    In particular, ``training_data`` is a list containing 50,000\n",
        "    2-tuples ``(x, y)``.  ``x`` is a 784-dimensional numpy.ndarray\n",
        "    containing the input image.  ``y`` is a 10-dimensional\n",
        "    numpy.ndarray representing the unit vector corresponding to the\n",
        "    correct digit for ``x``.\n",
        "\n",
        "    ``validation_data`` and ``test_data`` are lists containing 10,000\n",
        "    2-tuples ``(x, y)``.  In each case, ``x`` is a 784-dimensional\n",
        "    numpy.ndarry containing the input image, and ``y`` is the\n",
        "    corresponding classification, i.e., the digit values (integers)\n",
        "    corresponding to ``x``.\n",
        "\n",
        "    Obviously, this means we're using slightly different formats for\n",
        "    the training data and the validation / test data.  These formats\n",
        "    turn out to be the most convenient for use in our neural network\n",
        "    code.\"\"\"\n",
        "    tr_d, va_d, te_d = load_data()\n",
        "    training_inputs = [np.reshape(x, (784, 1)) for x in tr_d[0]]\n",
        "    training_results = [vectorized_result(y) for y in tr_d[1]]\n",
        "    training_data = zip(training_inputs, training_results)\n",
        "    validation_inputs = [np.reshape(x, (784, 1)) for x in va_d[0]]\n",
        "    validation_data = zip(validation_inputs, va_d[1])\n",
        "    test_inputs = [np.reshape(x, (784, 1)) for x in te_d[0]]\n",
        "    test_data = zip(test_inputs, te_d[1])\n",
        "    return (list(training_data), list(validation_data), list(test_data))\n",
        "\n",
        "def vectorized_result(j):\n",
        "    \"\"\"Return a 10-dimensional unit vector with a 1.0 in the jth\n",
        "    position and zeroes elsewhere.  This is used to convert a digit\n",
        "    (0...9) into a corresponding desired output from the neural\n",
        "    network.\"\"\"\n",
        "    e = np.zeros((10, 1))\n",
        "    e[j] = 1.0\n",
        "    return e"
      ]
    },
    {
      "cell_type": "code",
      "execution_count": 5,
      "id": "a4583e30-21b4-47dc-a44c-96e61857028b",
      "metadata": {
        "colab": {
          "base_uri": "https://localhost:8080/"
        },
        "id": "a4583e30-21b4-47dc-a44c-96e61857028b",
        "outputId": "3341cfed-cb63-4557-cbb3-5fd17cddbfc3"
      },
      "outputs": [
        {
          "output_type": "stream",
          "name": "stdout",
          "text": [
            "Epoch 0: 9095 : 10000 \n",
            "Epoch 1: 9268 : 10000 \n",
            "Epoch 2: 9327 : 10000 \n",
            "Epoch 3: 9330 : 10000 \n",
            "Epoch 4: 9412 : 10000 \n",
            "Epoch 5: 9389 : 10000 \n",
            "Epoch 6: 9415 : 10000 \n",
            "Epoch 7: 9429 : 10000 \n",
            "Epoch 8: 9451 : 10000 \n",
            "Epoch 9: 9469 : 10000 \n",
            "Epoch 10: 9454 : 10000 \n",
            "Epoch 11: 9492 : 10000 \n",
            "Epoch 12: 9481 : 10000 \n",
            "Epoch 13: 9484 : 10000 \n",
            "Epoch 14: 9495 : 10000 \n",
            "Epoch 15: 9473 : 10000 \n",
            "Epoch 16: 9497 : 10000 \n",
            "Epoch 17: 9501 : 10000 \n",
            "Epoch 18: 9521 : 10000 \n",
            "Epoch 19: 9521 : 10000 \n",
            "Epoch 20: 9512 : 10000 \n",
            "Epoch 21: 9511 : 10000 \n",
            "Epoch 22: 9528 : 10000 \n",
            "Epoch 23: 9513 : 10000 \n",
            "Epoch 24: 9503 : 10000 \n",
            "Epoch 25: 9502 : 10000 \n",
            "Epoch 26: 9505 : 10000 \n",
            "Epoch 27: 9523 : 10000 \n",
            "Epoch 28: 9489 : 10000 \n",
            "Epoch 29: 9526 : 10000 \n"
          ]
        }
      ],
      "source": [
        "training_data, validation_data, test_data = load_data_wrapper()\n",
        "\n",
        "nn = Network([784, 30, 10])\n",
        "nn.train(training_data, test_data, mini_batch_size=10, eta=3, epochs=30)"
      ]
    },
    {
      "cell_type": "code",
      "execution_count": null,
      "id": "4fe6871d-5f0d-4145-ba5a-46230734ff6f",
      "metadata": {
        "id": "4fe6871d-5f0d-4145-ba5a-46230734ff6f"
      },
      "outputs": [],
      "source": []
    }
  ],
  "metadata": {
    "kernelspec": {
      "display_name": "Python 3 (ipykernel)",
      "language": "python",
      "name": "python3"
    },
    "language_info": {
      "codemirror_mode": {
        "name": "ipython",
        "version": 3
      },
      "file_extension": ".py",
      "mimetype": "text/x-python",
      "name": "python",
      "nbconvert_exporter": "python",
      "pygments_lexer": "ipython3",
      "version": "3.12.3"
    },
    "colab": {
      "provenance": [],
      "include_colab_link": true
    }
  },
  "nbformat": 4,
  "nbformat_minor": 5
}